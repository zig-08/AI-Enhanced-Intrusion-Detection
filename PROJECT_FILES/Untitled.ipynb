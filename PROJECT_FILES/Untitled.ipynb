{
 "cells": [
  {
   "cell_type": "code",
   "execution_count": null,
   "id": "5e135f6b-6c7d-459f-81ae-857a59369cfc",
   "metadata": {},
   "outputs": [
    {
     "ename": "",
     "evalue": "",
     "output_type": "error",
     "traceback": [
      "\u001b[1;31mThe kernel failed to start as the Python Environment 'cyber (Python -1.-1.-1)' is no longer available. Consider selecting another kernel or refreshing the list of Python Environments."
     ]
    }
   ],
   "source": [
    "import pandas as pd\n",
    "from sklearn.model_selection import train_test_split\n",
    "from sklearn.ensemble import RandomForestClassifier\n",
    "from sklearn.metrics import classification_report, accuracy_score\n",
    "from imblearn.over_sampling import SMOTE\n",
    "import joblib\n",
    "\n",
    "# 1. Load dataset\n",
    "data = pd.read_csv(\"web_attacks_balanced.csv\")\n",
    "\n",
    "# 2. Define the target column and selected features\n",
    "target_column = \"Label\"\n",
    "# Arbitrarily selected 4 features for demonstration.\n",
    "# You should replace these with features identified through proper feature selection.\n",
    "selected_features = [\n",
    "    'Flow Duration',\n",
    "    'Total Fwd Packets',\n",
    "    'Total Backward Packets',\n",
    "    'Total Length of Fwd Packets'\n",
    "]\n",
    "\n",
    "# Ensure the target column and selected features are in the dataset\n",
    "if target_column not in data.columns:\n",
    "    raise ValueError(f\"Target column '{target_column}' not found in dataset.\")\n",
    "for feature in selected_features:\n",
    "    if feature not in data.columns:\n",
    "        raise ValueError(f\"Selected feature '{feature}' not found in dataset.\")\n",
    "\n",
    "# 3. Prepare data with only selected features\n",
    "X = data[selected_features]\n",
    "y = data[target_column]\n",
    "\n",
    "# 4. Split train-test\n",
    "X_train, X_test, y_train, y_test = train_test_split(X, y, test_size=0.2, random_state=42)\n",
    "\n",
    "# 5. Handle imbalance using SMOTE\n",
    "# Note: SMOTE needs numerical data. Ensure your selected features are numerical.\n",
    "smote = SMOTE(random_state=42)\n",
    "X_train_smote, y_train_smote = smote.fit_resample(X_train, y_train)\n",
    "\n",
    "# 6. Train RandomForestClassifier\n",
    "model = RandomForestClassifier(random_state=42)\n",
    "model.fit(X_train_smote, y_train_smote)\n",
    "\n",
    "# 7. Save the trained model\n",
    "joblib.dump(model, 'random_forest_model_4_features.joblib') # Saved with a new name for clarity\n",
    "print(\"Model saved as 'random_forest_model_4_features.joblib'\")\n",
    "\n",
    "# 8. Predict and evaluate\n",
    "y_pred = model.predict(X_test)\n",
    "\n",
    "print(\"\\nAccuracy:\", accuracy_score(y_test, y_pred))\n",
    "print(\"\\nClassification Report:\\n\", classification_report(y_test, y_pred))\n"
   ]
  },
  {
   "cell_type": "code",
   "execution_count": null,
   "id": "ccf575b3-16bb-4a98-b334-28677e82a8e4",
   "metadata": {},
   "outputs": [],
   "source": []
  }
 ],
 "metadata": {
  "kernelspec": {
   "display_name": "Python (cyber)",
   "language": "python",
   "name": "security"
  },
  "language_info": {
   "codemirror_mode": {
    "name": "ipython",
    "version": 3
   },
   "file_extension": ".py",
   "mimetype": "text/x-python",
   "name": "python",
   "nbconvert_exporter": "python",
   "pygments_lexer": "ipython3",
   "version": "-1.-1.-1"
  }
 },
 "nbformat": 4,
 "nbformat_minor": 5
}
